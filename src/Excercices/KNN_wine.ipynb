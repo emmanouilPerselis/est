{
 "cells": [
  {
   "cell_type": "code",
   "execution_count": 1,
   "metadata": {
    "collapsed": true
   },
   "outputs": [
    {
     "ename": "ModuleNotFoundError",
     "evalue": "No module named 'sklearn'",
     "traceback": [
      "\u001b[0;31m---------------------------------------------------------------------------\u001b[0m",
      "\u001b[0;31mModuleNotFoundError\u001b[0m                       Traceback (most recent call last)",
      "\u001b[0;32m<ipython-input-1-851855da5422>\u001b[0m in \u001b[0;36m<module>\u001b[0;34m()\u001b[0m\n\u001b[1;32m      1\u001b[0m \u001b[0;31m#Importing some packages\u001b[0m\u001b[0;34m\u001b[0m\u001b[0;34m\u001b[0m\u001b[0m\n\u001b[0;32m----> 2\u001b[0;31m \u001b[0;32mfrom\u001b[0m \u001b[0msklearn\u001b[0m\u001b[0;34m.\u001b[0m\u001b[0mneighbors\u001b[0m \u001b[0;32mimport\u001b[0m \u001b[0mKNeighborsClassifier\u001b[0m\u001b[0;34m\u001b[0m\u001b[0m\n\u001b[0m\u001b[1;32m      3\u001b[0m \u001b[0;32mimport\u001b[0m \u001b[0mpandas\u001b[0m \u001b[0;32mas\u001b[0m \u001b[0mpd\u001b[0m\u001b[0;34m\u001b[0m\u001b[0m\n\u001b[1;32m      4\u001b[0m \u001b[0;32mimport\u001b[0m \u001b[0mnumpy\u001b[0m \u001b[0;32mas\u001b[0m \u001b[0mnp\u001b[0m\u001b[0;34m\u001b[0m\u001b[0m\n\u001b[1;32m      5\u001b[0m \u001b[0;32mimport\u001b[0m \u001b[0mmatplotlib\u001b[0m\u001b[0;34m.\u001b[0m\u001b[0mpyplot\u001b[0m \u001b[0;32mas\u001b[0m \u001b[0mplt\u001b[0m\u001b[0;34m\u001b[0m\u001b[0m\n",
      "\u001b[0;31mModuleNotFoundError\u001b[0m: No module named 'sklearn'"
     ],
     "output_type": "error"
    }
   ],
   "source": [
    "#Importing some packages\n",
    "from sklearn.neighbors import KNeighborsClassifier\n",
    "import pandas as pd\n",
    "import numpy as np\n",
    "import matplotlib.pyplot as plt\n",
    "from sklearn.metrics import confusion_matrix\n",
    "%matplotlib inline"
   ]
  },
  {
   "cell_type": "markdown",
   "metadata": {},
   "source": [
    "Read in the 'wine_data' dataset from the directory 'src/data_ex/' into a pandas dataframe. \n",
    "\n",
    "This dataset does not contain collumn names so you should set argument 'header=None'.\n",
    "\n",
    "The name of the dataset can be chosen."
   ]
  },
  {
   "cell_type": "code",
   "execution_count": 2,
   "metadata": {},
   "outputs": [
    {
     "ename": "NameError",
     "evalue": "name 'pd' is not defined",
     "traceback": [
      "\u001b[0;31m---------------------------------------------------------------------------\u001b[0m",
      "\u001b[0;31mNameError\u001b[0m                                 Traceback (most recent call last)",
      "\u001b[0;32m<ipython-input-2-55bb535b1d4f>\u001b[0m in \u001b[0;36m<module>\u001b[0;34m()\u001b[0m\n\u001b[0;32m----> 1\u001b[0;31m \u001b[0mdata\u001b[0m \u001b[0;34m=\u001b[0m \u001b[0mpd\u001b[0m\u001b[0;34m.\u001b[0m\u001b[0mread_csv\u001b[0m\u001b[0;34m(\u001b[0m\u001b[0;34m'../data_ex/wine_data.txt'\u001b[0m\u001b[0;34m,\u001b[0m \u001b[0msep\u001b[0m\u001b[0;34m=\u001b[0m\u001b[0;34m\" \"\u001b[0m\u001b[0;34m,\u001b[0m \u001b[0mheader\u001b[0m\u001b[0;34m=\u001b[0m\u001b[0;32mNone\u001b[0m\u001b[0;34m)\u001b[0m\u001b[0;34m\u001b[0m\u001b[0m\n\u001b[0m",
      "\u001b[0;31mNameError\u001b[0m: name 'pd' is not defined"
     ],
     "output_type": "error"
    }
   ],
   "source": [
    "data = pd.read_csv('../data_ex/wine_data.txt', sep=\",\", header=None)"
   ]
  },
  {
   "cell_type": "markdown",
   "metadata": {},
   "source": [
    "The wine dataset has no collumn names so it's time to set this. \n",
    "\n",
    "Pass in the collumn names into the pandas dataframe. These are (keep order):\n",
    "\n",
    "Category_label, Alcohol, Malic acid, Ash, Alcalinity of ash, Magnesium, Total phenols, Flavanoids, Nonflavanoid phenols, Proanthocyanins, Color intensity, Hue, OD280/OD315 of diluted wines, Proline"
   ]
  },
  {
   "cell_type": "code",
   "execution_count": 2,
   "metadata": {},
   "outputs": [],
   "source": [
    "columns = [\"Category_label\", \" Alcohol\", \"Malic acid\", \"Ash\",\"Alcalinity of ash\",\"Magnesium\",\"Total phenols\",\"Flavanoids\",\"Nonflavanoid phenols\",\"Proanthocyanins\",\"Color intensity\", \"Hue\", \"OD280/OD315 of diluted wines\", \"Proline\"]\n",
    "data.columns = columns"
   ]
  },
  {
   "cell_type": "markdown",
   "metadata": {},
   "source": [
    "Following line is used to only keep rows of dataframe with category 1 and 2 wine. \n",
    "\n",
    "Note: no changes to this line of code are needed."
   ]
  },
  {
   "cell_type": "code",
   "execution_count": 2,
   "metadata": {},
   "outputs": [],
   "source": [
    ""
   ]
  },
  {
   "cell_type": "markdown",
   "metadata": {},
   "source": [
    "The first collumn 'Category_label' should be dropped from the pandas dataframe. Do this and store the result in temp.\n",
    "Print out the information for both dataframes wine and temp with .info() and check the results."
   ]
  },
  {
   "cell_type": "code",
   "execution_count": 2,
   "metadata": {},
   "outputs": [],
   "source": [
    "temp = data.drop(data.columns[0], axis=1)"
   ]
  },
  {
   "cell_type": "markdown",
   "metadata": {},
   "source": [
    "Make a KNN object with arguments n_neighbours=1, weights='uniform', also store it.\n"
   ]
  },
  {
   "cell_type": "code",
   "execution_count": 2,
   "metadata": {},
   "outputs": [],
   "source": [
    "neigh = KNeighborsClassifier(n_neighbors=1, weights='uniform')"
   ]
  },
  {
   "cell_type": "markdown",
   "metadata": {},
   "source": [
    "Fit the model to a part of the dataset. Some points should be dropped from the pandas Dataframe.\n",
    "\n",
    "Drop the first 3 rows and row 59 to 61. fit eh model to that part of the data."
   ]
  },
  {
   "cell_type": "code",
   "execution_count": 2,
   "metadata": {},
   "outputs": [],
   "source": [
    "data.drop(data.index[0])\n",
    "data.drop(data.index[1])\n",
    "data.drop(data.index[2])\n",
    "data.drop(data.index[58])\n",
    "data.drop(data.index[59])\n",
    "data.drop(data.index[60])\n",
    "neigh.fit(data,temp) "
   ]
  },
  {
   "cell_type": "markdown",
   "metadata": {},
   "source": [
    "Predict on the rows you dropped and save the results. Take the correct rows from the temp dataframe and use the predict function on this\n",
    "\n",
    "Different wine classes are simply '1' and '2'. Check this by printing out the unique values of the saved result, you can use np.unique()."
   ]
  },
  {
   "cell_type": "code",
   "execution_count": 2,
   "metadata": {},
   "outputs": [],
   "source": [
    "results = neigh.predict()\n",
    "np.unique(results)"
   ]
  },
  {
   "cell_type": "markdown",
   "metadata": {},
   "source": [
    "It's time to plot the results. Since we are working with a lot of collumns it's not straightforward to visualize all the collumns at once.\n",
    "\n",
    "We will make a scatter plot with only the predicted results vs the labels(=ground truth).\n",
    "Follow these steps in producing the plot:\n",
    "1) make an array from 0 to size of total predicted values, make an array of ones with size of total predicted values.\n",
    "\n",
    "2) make a boolean array that is True for 'predicted class' is 1 and False otherwise. This array should have the same length as the number of predicted values. So use the predicted results from the previous step. call the boolean array 'mask_pred'. \n",
    "\n",
    "Make a second mask called 'mask_actual' that is True when the actual values are 1 and false otherwise. The labels for the classes we are predicting are in correct order [1, 1, 1, 2, 2, 2]\n",
    "\n",
    "3) 4 scatter plots need to be made in the same graph.\n",
    "\n",
    "-2 scatter plots for predictions: make a scatter plot taking the predicted classes. Use the 'mask_pred' to only plot class1 and then only class2\n",
    "the first argument in the plot function should be array made in the first step with values from 0 to size of  total predictions. The second argument should be the array from the first step( with only 1 values). use the colors green and red for the plot and give labels 'pred_class1' and 'pred_class2' or similar. Set the size of the points to '2'.\n",
    "\n",
    "-2 scatter plots for labels: make similar scatter plots but now for the ground truth. The mask 'mask_actual' should be used. Same colors should apply for the different classes as in the previous 2 scatter plots. Instead of passing an array of ones pass an array of 1.1 values into the plot function. \n",
    "\n",
    "4) set the legend in the upper right corner\n",
    "5) finally show the plot. \n",
    "\n",
    "You should see a series of dots (blue and red) with the top row at value 1.1 the actual classes and a bottom row at 1.0 with the predicted classes.\n",
    "check if the colors correspond, are predictions perfect?\n",
    " "
   ]
  },
  {
   "cell_type": "code",
   "execution_count": 2,
   "metadata": {},
   "outputs": [],
   "source": [
    ""
   ]
  },
  {
   "cell_type": "markdown",
   "metadata": {},
   "source": [
    "Make a confusion matrix. make sure you put the arguments in the correct order, re-read documentation if needed.\n",
    "Also set labels argument for the matrix. The wine category's are 1 and 2\n",
    "\n",
    "you should expect 1 falsely classified point and 5 correctly classified points.\n"
   ]
  },
  {
   "cell_type": "code",
   "execution_count": 2,
   "metadata": {},
   "outputs": [],
   "source": [
    ""
   ]
  },
  {
   "cell_type": "code",
   "execution_count": null,
   "metadata": {},
   "outputs": [],
   "source": []
  }
 ],
 "metadata": {
  "kernelspec": {
   "display_name": "Python 2",
   "language": "python",
   "name": "python2"
  },
  "language_info": {
   "codemirror_mode": {
    "name": "ipython",
    "version": 2
   },
   "file_extension": ".py",
   "mimetype": "text/x-python",
   "name": "python",
   "nbconvert_exporter": "python",
   "pygments_lexer": "ipython2",
   "version": "2.7.6"
  }
 },
 "nbformat": 4,
 "nbformat_minor": 0
}
