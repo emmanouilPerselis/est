{
 "cells": [
  {
   "cell_type": "markdown",
   "metadata": {
    "collapsed": true
   },
   "source": [
    "In this exercise you will use an IsolationForest to seperate generated\n",
    "data that follows two different normal distributions. "
   ]
  },
  {
   "cell_type": "markdown",
   "metadata": {},
   "source": [
    "Make two normal distributions using np.random.normal(). The arguments of this function are loc : the average, scale: the deviation of the average, size : number of data points generated.  Take into account that the Iforest algorithm should be able to distinguish between these two sets of datapoints, choose arguments accordingly."
   ]
  },
  {
   "cell_type": "code",
   "execution_count": null,
   "metadata": {},
   "outputs": [],
   "source": [
    "dist1 = np.random.normal(0,0.1,1000)\n",
    "dist2 = np.random.normal(1,0.2,1000)"
   ]
  },
  {
   "cell_type": "markdown",
   "metadata": {},
   "source": [
    "Make a graph with histograms for both normal distributions. Visualize the data that has just been produced"
   ]
  },
  {
   "cell_type": "code",
   "execution_count": 7,
   "metadata": {},
   "outputs": [
    {
     "data": {
      "image/png": "[encoded data removed]",
      "text/plain": [
       "<Figure size 432x288 with 1 Axes>"
      ]
     },
     "metadata": {},
     "output_type": "display_data"
    }
   ],
   "source": [
    "import matplotlib.pyplot as plt\n",
    "import numpy as np\n",
    "dist1 = np.random.normal(0,0.1,1000)\n",
    "dist2 = np.random.normal(1,0.2,1000)\n",
    "\n",
    "plot1 = plt.hist(dist1, color = 'blue', edgecolor = 'black', bins = int(180/5))\n",
    "plot2 = plt.hist(dist2, color = 'blue', edgecolor = 'black', bins = int(180/5))\n"
   ]
  },
  {
   "cell_type": "markdown",
   "metadata": {},
   "source": [
    "Make an Isolation Forest Object. Fill in arguments n_estimators and max_samples."
   ]
  },
  {
   "cell_type": "code",
   "execution_count": null,
   "metadata": {},
   "outputs": [],
   "source": [
    "import numpy as np\n",
    "import matplotlib.pyplot as plt\n",
    "from sklearn.ensemble import IsolationForest\n",
    "\n",
    "rng = np.random.RandomState(42)\n",
    "\n",
    "# Generate train data\n",
    "X = 0.3 * rng.randn(100, 2)\n",
    "X_train = np.r_[X + 2, X - 2]\n",
    "# Generate some regular novel observations\n",
    "X = 0.3 * rng.randn(20, 2)\n",
    "X_test = np.r_[X + 2, X - 2]\n",
    "# Generate some abnormal novel observations\n",
    "X_outliers = rng.uniform(low=-4, high=4, size=(20, 2))\n",
    "\n",
    "# fit the model\n",
    "clf = IsolationForest(behaviour='new', max_samples=100,\n",
    "                      random_state=rng, contamination='auto')\n",
    "clf.fit(X_train)\n",
    "y_pred_train = clf.predict(X_train)\n",
    "y_pred_test = clf.predict(X_test)\n",
    "y_pred_outliers = clf.predict(X_outliers)\n",
    "\n",
    "# plot the line, the samples, and the nearest vectors to the plane\n",
    "xx, yy = np.meshgrid(np.linspace(-5, 5, 50), np.linspace(-5, 5, 50))\n",
    "Z = clf.decision_function(np.c_[xx.ravel(), yy.ravel()])\n",
    "Z = Z.reshape(xx.shape)\n",
    "\n",
    "plt.title(\"IsolationForest\")\n",
    "plt.contourf(xx, yy, Z, cmap=plt.cm.Blues_r)\n",
    "\n",
    "b1 = plt.scatter(X_train[:, 0], X_train[:, 1], c='white',\n",
    "                 s=20, edgecolor='k')\n",
    "b2 = plt.scatter(X_test[:, 0], X_test[:, 1], c='green',\n",
    "                 s=20, edgecolor='k')\n",
    "c = plt.scatter(X_outliers[:, 0], X_outliers[:, 1], c='red',\n",
    "                s=20, edgecolor='k')\n",
    "plt.axis('tight')\n",
    "plt.xlim((-5, 5))\n",
    "plt.ylim((-5, 5))\n",
    "plt.legend([b1, b2, c],\n",
    "           [\"training observations\",\n",
    "            \"new regular observations\", \"new abnormal observations\"],\n",
    "           loc=\"upper left\")\n",
    "plt.show()"
   ]
  },
  {
   "cell_type": "code",
   "execution_count": null,
   "metadata": {},
   "outputs": [],
   "source": []
  },
  {
   "cell_type": "markdown",
   "metadata": {},
   "source": [
    "Construct the Isolation forest by giving the full dataset to the Isolation Forest object. \n",
    "\n",
    "Note that the fit() method expects a numpy array of the shape (n,1) where n is some number of datapoints."
   ]
  },
  {
   "cell_type": "code",
   "execution_count": 7,
   "metadata": {},
   "outputs": [
    {
     "data": {
      "image/png": "[encoded data removed]",
      "text/plain": [
       "<Figure size 432x288 with 1 Axes>"
      ]
     },
     "metadata": {},
     "output_type": "display_data"
    }
   ],
   "source": [
    "import matplotlib.pyplot as plt\n",
    "import numpy as np\n",
    "dist1 = np.random.normal(0,0.1,1000)\n",
    "dist2 = np.random.normal(1,0.2,1000)\n",
    "\n",
    "plot1 = plt.hist(dist1, color = 'blue', edgecolor = 'black', bins = int(180/5))\n",
    "plot2 = plt.hist(dist2, color = 'red', edgecolor = 'black', bins = int(180/5))\n",
    "\n",
    "dist3 = np.concatenate((dist1,dist2))\n",
    "np.reshape(dist3, -1,1)\n",
    "plt.hist(dist3)\n",
    "plt.show()\n"
   ]
  },
  {
   "cell_type": "markdown",
   "metadata": {},
   "source": [
    "The Iforest is now ready the calculate scores and make predictions.\n",
    "\n",
    "1) Make an array of values with a constant step between values using a numpy function. The data should fall inside the range of this array of values.  \n",
    "2) Calculate the scores and predict anomalies for this array of values. \n",
    "\n",
    "Note: don't forget that these functions also expect a numpy array in the form n x 1, row vector."
   ]
  },
  {
   "cell_type": "code",
   "execution_count": null,
   "metadata": {},
   "outputs": [],
   "source": [
    "dist1 = np.random.normal(1,0.2,1000)\n"
   ]
  },
  {
   "cell_type": "markdown",
   "metadata": {},
   "source": [
    "Visualize the anomaly scores. It should be a simple lineplot for the complete array of values produced in previous step. \n",
    "\n",
    "Use the `label` argument to label the line plot. Give an appropiate label like 'anomaly score' or similar.\n",
    "\n",
    "Also show the graph to see if it's sucessfull. \n",
    "\n",
    "Note: you should see two peaks. depending on the choice of generated data this might look different."
   ]
  },
  {
   "cell_type": "code",
   "execution_count": null,
   "metadata": {},
   "outputs": [],
   "source": [
    "#?????"
   ]
  },
  {
   "cell_type": "markdown",
   "metadata": {},
   "source": [
    "Visualize the predicted anomalies. Use the array of values and stored anomalies.\n",
    " \n",
    "The outliers returned by the Iforest have the values +1 for inliers and -1 for outliers. make a boolean array that is true for outliers.\n",
    "Using this boolean array as a mask on the plot. \n",
    "\n",
    "The plot should be of type scatter. A scatterplot plots points instead of lines.\n",
    "\n",
    "Make sure the scatterlot has value = 'maximum of anomaly scores' for outliers. for inliers nothing should be plotted.\n",
    "\n",
    "The color of the plot should be red. The label should be similar to 'outliers'."
   ]
  },
  {
   "cell_type": "code",
   "execution_count": null,
   "metadata": {},
   "outputs": [],
   "source": [
    "y = np.zeros(xx.shape[0])\n",
    "y.fill(max(anomaly_score))\n",
    "mask = outlier == -1\n",
    "plt.scatter(xx[mask], y[mask], color='r', label='outliers')\n",
    "plt.show()"
   ]
  },
  {
   "cell_type": "markdown",
   "metadata": {},
   "source": [
    "Add a legend to the plot and add names for the axes. \n",
    "Look at the documentation of matplotlib if you are not sure (legend(), xlabel(), ylabel() ). \n",
    "\n",
    "The legend shows the labels that were previously made. You can choose where these are shown. \n",
    "\n",
    "The label names for x and y can also be chosen.\n",
    "\n",
    "Now also show the plot again using .show() to see the changes."
   ]
  },
  {
   "cell_type": "code",
   "execution_count": null,
   "metadata": {},
   "outputs": [],
   "source": [
    "y = np.zeros(xx.shape[0])\n",
    "y.fill(max(anomaly_score))\n",
    "mask = outlier == -1\n",
    "plt.scatter(xx[mask], y[mask], color='r', label='outliers')\n",
    "plt.show()\n",
    "plt.xlabel(\"xlabel\")\n",
    "plt.ylabel(\"ylabel\")\n",
    "plt.legend(loc='upper left')\n",
    "plt.show()"
   ]
  },
  {
   "cell_type": "markdown",
   "metadata": {},
   "source": [
    "If you haven't tried laying the two normal distributions close together such that they : \n",
    "\n",
    "(almost) fully overlap, partially overlap, are separated.\n",
    "\n",
    "Rerun your script each time (all cells).\n",
    " \n",
    "What do you see ? Can you explain the different situations ?\n",
    "\n",
    "Write down a short description for the three situations below\n",
    "\n",
    "Note: double click on the box below to edit.\n",
    "_________________________________________"
   ]
  },
  {
   "cell_type": "markdown",
   "metadata": {},
   "source": [
    "Normal Distributions \n",
    "\n",
    "fully overlap: when the data is exactly the same.\n",
    "\n",
    "Partially overlap: when a part of the dataset is common.\n",
    "\n",
    "Seperated: when the 2 datasets do not have common data.\n"
   ]
  },
  {
   "cell_type": "code",
   "execution_count": null,
   "metadata": {},
   "outputs": [],
   "source": []
  }
 ],
 "metadata": {
  "kernelspec": {
   "display_name": "Python 3",
   "language": "python",
   "name": "python3"
  },
  "language_info": {
   "codemirror_mode": {
    "name": "ipython",
    "version": 3
   },
   "file_extension": ".py",
   "mimetype": "text/x-python",
   "name": "python",
   "nbconvert_exporter": "python",
   "pygments_lexer": "ipython3",
   "version": "3.6.5"
  }
 },
 "nbformat": 4,
 "nbformat_minor": 1
}
