{
 "cells": [
  {
   "cell_type": "markdown",
   "metadata": {
    "collapsed": true
   },
   "source": [
    "Numpy documentation is very usefull in the following exercices. A specific set of exercices is given, aimed at handling datawrangling procedures."
   ]
  },
  {
   "cell_type": "code",
   "execution_count": 5,
   "metadata": {},
   "outputs": [],
   "source": [
    "#importing required packages\n",
    "import numpy as np\n"
   ]
  },
  {
   "cell_type": "code",
   "execution_count": 8,
   "metadata": {},
   "outputs": [
    {
     "name": "stdout",
     "output_type": "stream",
     "text": [
      "class is: <class 'list'>\n[11, 55, 20, 78]\nclass is: <class 'numpy.ndarray'>\n[11 55 20 78]\nhas datatype: int32\n"
     ]
    }
   ],
   "source": [
    "#basic list to numpy array conversion\n",
    "x = [1, 1, 2, 3, 5, 8, 13, 21, 34]\n",
    "print('class is:', x.__class__)\n",
    "print(x)\n",
    "\n",
    "a = np.array(x)\n",
    "print('class is:', a.__class__)\n",
    "print(a)\n",
    "print('has datatype:', a.dtype)"
   ]
  },
  {
   "cell_type": "code",
   "execution_count": 9,
   "metadata": {},
   "outputs": [
    {
     "name": "stdout",
     "output_type": "stream",
     "text": [
      "class is: <class 'list'>\n[1, 1, 2, 3, 5, 8, 13, 21.0, 34]\nclass is: <class 'numpy.ndarray'>\n[ 1.  1.  2.  3.  5.  8. 13. 21. 34.]\nhas datatype: float64\n"
     ]
    }
   ],
   "source": [
    "#pay attention to dtype\n",
    "x = [1, 1, 2, 3, 5, 8, 13, 21.0, 34]\n",
    "print('class is:', x.__class__)\n",
    "print(x)\n",
    "\n",
    "a = np.array(x)\n",
    "print('class is:', a.__class__)\n",
    "print(a)\n",
    "print('has datatype:', a.dtype)"
   ]
  },
  {
   "cell_type": "code",
   "execution_count": 10,
   "metadata": {},
   "outputs": [
    {
     "name": "stdout",
     "output_type": "stream",
     "text": [
      "class is: <class 'list'>\n[1, 1, 2, 3, 5, 8, 13, 21, 34]\nclass is: <class 'numpy.ndarray'>\n[[ 1  1  2  3  5  8 13 21 34]]\nhas datatype: int32\n"
     ]
    }
   ],
   "source": [
    "#setting static dimensions\n",
    "x = [1, 1, 2, 3, 5, 8, 13, 21, 34]\n",
    "print('class is:', x.__class__)\n",
    "print(x)\n",
    "\n",
    "a = np.array(x, ndmin=2)\n",
    "print('class is:', a.__class__)\n",
    "print(a)\n",
    "print('has datatype:', a.dtype)"
   ]
  },
  {
   "cell_type": "code",
   "execution_count": 11,
   "metadata": {},
   "outputs": [
    {
     "name": "stdout",
     "output_type": "stream",
     "text": [
      "class is: <class 'list'>\n[[1, 3, 2, 1], [3, 5, 4, 3], [1, 3, 2, 1], [2, 4, 3, 2]]\nclass is: <class 'numpy.ndarray'>\n[[1 3 2 1]\n [3 5 4 3]\n [1 3 2 1]\n [2 4 3 2]]\nhas datatype: int32\n"
     ]
    }
   ],
   "source": [
    "#try with nested list, notice format numpy-array\n",
    "x = [[1, 3, 2, 1],\n",
    "     [3, 5, 4, 3],\n",
    "     [1, 3, 2, 1],\n",
    "     [2, 4, 3, 2]]\n",
    "\n",
    "print('class is:', x.__class__)\n",
    "print(x)\n",
    "\n",
    "a = np.array(x, ndmin=2)\n",
    "print('class is:', a.__class__)\n",
    "print(a)\n",
    "print('has datatype:', a.dtype)"
   ]
  },
  {
   "cell_type": "markdown",
   "metadata": {},
   "source": [
    "Now for some simple warm-up on np.arange() function.\n"
   ]
  },
  {
   "cell_type": "code",
   "execution_count": 12,
   "metadata": {},
   "outputs": [
    {
     "name": "stdout",
     "output_type": "stream",
     "text": [
      "class is: <class 'numpy.ndarray'>\nhas datatype: int32\n[ 0  1  2  3  4  5  6  7  8  9 10]\n"
     ]
    }
   ],
   "source": [
    "x = np.arange(11)\n",
    "print('class is:', x.__class__)\n",
    "print('has datatype:', a.dtype)\n",
    "print(x)\n",
    "\n"
   ]
  },
  {
   "cell_type": "code",
   "execution_count": 13,
   "metadata": {},
   "outputs": [
    {
     "name": "stdout",
     "output_type": "stream",
     "text": [
      "class is: <class 'numpy.ndarray'>\nhas datatype: int32\n[ 5  6  7  8  9 10 11 12 13 14]\n"
     ]
    }
   ],
   "source": [
    "x = np.arange(5,15)\n",
    "print('class is:', x.__class__)\n",
    "print('has datatype:', a.dtype)\n",
    "print(x)\n"
   ]
  },
  {
   "cell_type": "code",
   "execution_count": 14,
   "metadata": {},
   "outputs": [
    {
     "name": "stdout",
     "output_type": "stream",
     "text": [
      "class is: <class 'numpy.ndarray'>\nhas datatype: int32\n[ 5  8 11 14]\n"
     ]
    }
   ],
   "source": [
    "x = np.arange(5, 15, 3)\n",
    "print('class is:', x.__class__)\n",
    "print('has datatype:', a.dtype)\n",
    "print(x)"
   ]
  },
  {
   "cell_type": "code",
   "execution_count": 17,
   "metadata": {},
   "outputs": [
    {
     "name": "stdout",
     "output_type": "stream",
     "text": [
      "class is: <class 'numpy.ndarray'>\nhas datatype: float64\n[ 5.  8. 11. 14.]\n"
     ]
    }
   ],
   "source": [
    "x = np.arange(5, 15, 3, dtype='float')\n",
    "print('class is:', x.__class__)\n",
    "print('has datatype:', x.dtype)\n",
    "print(x)"
   ]
  },
  {
   "cell_type": "code",
   "execution_count": 21,
   "metadata": {},
   "outputs": [
    {
     "name": "stdout",
     "output_type": "stream",
     "text": [
      "class is: <class 'numpy.ndarray'>\nhas datatype: float64\n[ 5.   5.5  6.   6.5  7.   7.5  8.   8.5  9.   9.5 10.  10.5 11.  11.5\n 12.  12.5 13.  13.5 14.  14.5]\nclass is: <class 'numpy.ndarray'>\nhas datatype: int32\n[5 5 5 5 5 5 5 5 5 5 5 5 5 5 5 5 5 5 5 5]\n"
     ]
    },
    {
     "ename": "TypeError",
     "evalue": "data type \"string\" not understood",
     "traceback": [
      "\u001b[1;31m---------------------------------------------------------------------------\u001b[0m",
      "\u001b[1;31mTypeError\u001b[0m                                 Traceback (most recent call last)",
      "\u001b[1;32m<ipython-input-21-97300a5a7211>\u001b[0m in \u001b[0;36m<module>\u001b[1;34m()\u001b[0m\n\u001b[0;32m     10\u001b[0m \u001b[0mprint\u001b[0m\u001b[1;33m(\u001b[0m\u001b[0mx\u001b[0m\u001b[1;33m)\u001b[0m\u001b[1;33m\u001b[0m\u001b[0m\n\u001b[0;32m     11\u001b[0m \u001b[1;33m\u001b[0m\u001b[0m\n\u001b[1;32m---> 12\u001b[1;33m \u001b[0mx\u001b[0m \u001b[1;33m=\u001b[0m \u001b[0mnp\u001b[0m\u001b[1;33m.\u001b[0m\u001b[0marange\u001b[0m\u001b[1;33m(\u001b[0m\u001b[1;36m1\u001b[0m\u001b[1;33m,\u001b[0m \u001b[1;36m11\u001b[0m\u001b[1;33m,\u001b[0m \u001b[1;36m1\u001b[0m\u001b[1;33m,\u001b[0m \u001b[0mdtype\u001b[0m\u001b[1;33m=\u001b[0m\u001b[1;34m'string'\u001b[0m\u001b[1;33m)\u001b[0m\u001b[1;33m\u001b[0m\u001b[0m\n\u001b[0m",
      "\u001b[1;31mTypeError\u001b[0m: data type \"string\" not understood"
     ],
     "output_type": "error"
    }
   ],
   "source": [
    "#dtype can be used to cast input or as a check\n",
    "x = np.arange(5,15, 0.5)\n",
    "print('class is:', x.__class__)\n",
    "print('has datatype:', x.dtype)\n",
    "print(x)\n",
    "\n",
    "#downcasting\n",
    "x = np.arange(5, 15, 0.5, dtype='int')\n",
    "print('class is:', x.__class__)\n",
    "print('has datatype:', x.dtype)\n",
    "print(x)\n",
    "\n",
    "#gives TypeError\n",
    "x = np.arange(1, 11, 1, dtype='string')\n",
    "    \n",
    "\n"
   ]
  },
  {
   "cell_type": "markdown",
   "metadata": {},
   "source": [
    "Some examples on np.reshape()"
   ]
  },
  {
   "cell_type": "code",
   "execution_count": 33,
   "metadata": {},
   "outputs": [
    {
     "name": "stdout",
     "output_type": "stream",
     "text": [
      "two ways to reshape\n[[ 1  1  2  3  5]\n [ 8 13 21 34 55]]\n[[ 1  1  2  3  5]\n [ 8 13 21 34 55]] \n\n[[ 1  1]\n [ 2  3]\n [ 5  8]\n [13 21]\n [34 55]]\n"
     ]
    }
   ],
   "source": [
    "#reshaping into 2-d\n",
    "x = np.array([1,1,2,3,5,8,13,21,34,55])\n",
    "print('two ways to reshape')\n",
    "print(x.reshape(2,5))\n",
    "print(np.reshape(x,(2,5)), '\\n')\n",
    "\n",
    "x = np.array([1,1,2,3,5,8,13,21,34,55])\n",
    "print(x.reshape(5,2))\n",
    "\n"
   ]
  },
  {
   "cell_type": "code",
   "execution_count": 36,
   "metadata": {},
   "outputs": [
    {
     "name": "stdout",
     "output_type": "stream",
     "text": [
      "[[ 1  1  2  3  5]\n [ 8 13 21 34 55]] \n\n[[ 1  1]\n [ 2  3]\n [ 5  8]\n [13 21]\n [34 55]]\n"
     ]
    },
    {
     "ename": "ValueError",
     "evalue": "cannot reshape array of size 10 into shape (3,newaxis)",
     "traceback": [
      "\u001b[1;31m---------------------------------------------------------------------------\u001b[0m",
      "\u001b[1;31mValueError\u001b[0m                                Traceback (most recent call last)",
      "\u001b[1;32m<ipython-input-36-904405ed8656>\u001b[0m in \u001b[0;36m<module>\u001b[1;34m()\u001b[0m\n\u001b[0;32m      5\u001b[0m \u001b[1;33m\u001b[0m\u001b[0m\n\u001b[0;32m      6\u001b[0m \u001b[1;31m# x contains 10 elements. Cannot be reshaped into arrays of size 3\u001b[0m\u001b[1;33m\u001b[0m\u001b[1;33m\u001b[0m\u001b[0m\n\u001b[1;32m----> 7\u001b[1;33m \u001b[0mprint\u001b[0m\u001b[1;33m(\u001b[0m\u001b[0mx\u001b[0m\u001b[1;33m.\u001b[0m\u001b[0mreshape\u001b[0m\u001b[1;33m(\u001b[0m\u001b[1;36m3\u001b[0m\u001b[1;33m,\u001b[0m\u001b[1;33m-\u001b[0m\u001b[1;36m1\u001b[0m\u001b[1;33m)\u001b[0m\u001b[1;33m)\u001b[0m\u001b[1;33m\u001b[0m\u001b[0m\n\u001b[0m",
      "\u001b[1;31mValueError\u001b[0m: cannot reshape array of size 10 into shape (3,newaxis)"
     ],
     "output_type": "error"
    }
   ],
   "source": [
    "# reshaping can be done with -1\n",
    "# this dimension contains as much elements as needed.\n",
    "print(x.reshape(2,-1), '\\n')\n",
    "print(x.reshape(5,-1))\n",
    "\n",
    "# x contains 10 elements. Cannot be reshaped into arrays of size 3\n",
    "print(x.reshape(3,-1))"
   ]
  },
  {
   "cell_type": "markdown",
   "metadata": {},
   "source": [
    "np.fill(), np.zeros, np.ones() are handy functions for initializing numpy arrays."
   ]
  },
  {
   "cell_type": "code",
   "execution_count": 45,
   "metadata": {},
   "outputs": [
    {
     "name": "stdout",
     "output_type": "stream",
     "text": [
      "[0. 0. 0.] \n\n[[0. 0. 0.]\n [0. 0. 0.]\n [0. 0. 0.]] \n\n[[[0 0 0]\n  [0 0 0]\n  [0 0 0]]\n\n [[0 0 0]\n  [0 0 0]\n  [0 0 0]]\n\n [[0 0 0]\n  [0 0 0]\n  [0 0 0]]]\n[1. 1. 1. 1.] \n\n[[1. 1. 1.]] \n\n[[1.]\n [1.]\n [1.]] \n\n"
     ]
    }
   ],
   "source": [
    "#provide the dimensions of the numpy nd-array as tuples\n",
    "print(np.zeros(3), '\\n')\n",
    "print(np.zeros((3,3)), '\\n')\n",
    "print(np.zeros((3,3,3), '\\n'))\n",
    "\n",
    "# same for np.ones\n",
    "print(np.ones(4), '\\n')\n",
    "print(np.ones((1, 3)), '\\n')\n",
    "print(np.ones((3, 1)), '\\n')"
   ]
  },
  {
   "cell_type": "code",
   "execution_count": 52,
   "metadata": {},
   "outputs": [
    {
     "name": "stdout",
     "output_type": "stream",
     "text": [
      "[2. 3. 6. 5.] \n\n[0. 0. 0. 0.] \n\n[3.14159265 3.14159265 3.14159265 3.14159265] \n\n"
     ]
    }
   ],
   "source": [
    "#fill can be used on existing arrays\n",
    "x = np.array([2,3,6,5.0])\n",
    "print(x, '\\n')\n",
    "#fill function has no return value\n",
    "x.fill(0.)\n",
    "print(x, '\\n')\n",
    "x.fill(np.pi)\n",
    "print(x, '\\n')"
   ]
  },
  {
   "cell_type": "code",
   "execution_count": 1,
   "metadata": {},
   "outputs": [
    {
     "ename": "NameError",
     "evalue": "name 'np' is not defined",
     "traceback": [
      "\u001b[1;31m---------------------------------------------------------------------------\u001b[0m",
      "\u001b[1;31mNameError\u001b[0m                                 Traceback (most recent call last)",
      "\u001b[1;32m<ipython-input-1-d8662f7af7cd>\u001b[0m in \u001b[0;36m<module>\u001b[1;34m()\u001b[0m\n\u001b[0;32m      1\u001b[0m \u001b[1;31m# The .shape attribute is useful for determining dimensions of numpy array\u001b[0m\u001b[1;33m\u001b[0m\u001b[1;33m\u001b[0m\u001b[0m\n\u001b[1;32m----> 2\u001b[1;33m \u001b[0mx\u001b[0m \u001b[1;33m=\u001b[0m \u001b[0mnp\u001b[0m\u001b[1;33m.\u001b[0m\u001b[0marray\u001b[0m\u001b[1;33m(\u001b[0m\u001b[1;33m[\u001b[0m\u001b[1;36m1\u001b[0m\u001b[1;33m,\u001b[0m\u001b[1;36m2\u001b[0m\u001b[1;33m,\u001b[0m\u001b[1;36m3\u001b[0m\u001b[1;33m]\u001b[0m\u001b[1;33m)\u001b[0m\u001b[1;33m\u001b[0m\u001b[0m\n\u001b[0m\u001b[0;32m      3\u001b[0m \u001b[0my\u001b[0m \u001b[1;33m=\u001b[0m \u001b[0mnp\u001b[0m\u001b[1;33m.\u001b[0m\u001b[0marray\u001b[0m\u001b[1;33m(\u001b[0m\u001b[1;33m[\u001b[0m\u001b[1;33m[\u001b[0m\u001b[1;36m1\u001b[0m\u001b[1;33m,\u001b[0m\u001b[1;36m2\u001b[0m\u001b[1;33m,\u001b[0m\u001b[1;36m3\u001b[0m\u001b[1;33m]\u001b[0m\u001b[1;33m]\u001b[0m\u001b[1;33m)\u001b[0m\u001b[1;33m\u001b[0m\u001b[0m\n\u001b[0;32m      4\u001b[0m \u001b[0mz\u001b[0m \u001b[1;33m=\u001b[0m \u001b[0mnp\u001b[0m\u001b[1;33m.\u001b[0m\u001b[0marray\u001b[0m\u001b[1;33m(\u001b[0m\u001b[1;33m[\u001b[0m\u001b[1;33m[\u001b[0m\u001b[1;36m1\u001b[0m\u001b[1;33m,\u001b[0m\u001b[1;36m2\u001b[0m\u001b[1;33m]\u001b[0m\u001b[1;33m,\u001b[0m\u001b[1;33m[\u001b[0m\u001b[1;36m2\u001b[0m\u001b[1;33m,\u001b[0m\u001b[1;36m3\u001b[0m\u001b[1;33m]\u001b[0m\u001b[1;33m,\u001b[0m\u001b[1;33m[\u001b[0m\u001b[1;36m3\u001b[0m\u001b[1;33m,\u001b[0m\u001b[1;36m4\u001b[0m\u001b[1;33m]\u001b[0m\u001b[1;33m]\u001b[0m\u001b[1;33m)\u001b[0m\u001b[1;33m\u001b[0m\u001b[0m\n\u001b[0;32m      5\u001b[0m \u001b[1;33m\u001b[0m\u001b[0m\n",
      "\u001b[1;31mNameError\u001b[0m: name 'np' is not defined"
     ],
     "output_type": "error"
    }
   ],
   "source": [
    "# The .shape attribute is useful for determining dimensions of numpy array\n",
    "# It returns a tuple containing the size of dimensions.\n",
    "x = np.array([1,2,3])\n",
    "y = np.array([[1,2,3]])\n",
    "z = np.array([[1,2],[2,3],[3,4]])\n",
    "\n",
    "display(x.shape)\n",
    "display(y.shape)\n",
    "display(z.shape)"
   ]
  },
  {
   "cell_type": "markdown",
   "metadata": {},
   "source": []
  }
 ],
 "metadata": {
  "kernelspec": {
   "display_name": "Python 2",
   "language": "python",
   "name": "python2"
  },
  "language_info": {
   "codemirror_mode": {
    "name": "ipython",
    "version": 2
   },
   "file_extension": ".py",
   "mimetype": "text/x-python",
   "name": "python",
   "nbconvert_exporter": "python",
   "pygments_lexer": "ipython2",
   "version": "2.7.6"
  }
 },
 "nbformat": 4,
 "nbformat_minor": 0
}
