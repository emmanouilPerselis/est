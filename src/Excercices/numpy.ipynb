{
 "cells": [
  {
   "cell_type": "markdown",
   "metadata": {
    "collapsed": true
   },
   "source": [
    "A set of Exercices made for Numpy package"
   ]
  },
  {
   "cell_type": "code",
   "execution_count": 2,
   "metadata": {},
   "outputs": [],
   "source": [
    "#import all the appropiate packages\n",
    "import numpy as np"
   ]
  },
  {
   "cell_type": "code",
   "execution_count": 4,
   "metadata": {},
   "outputs": [
    {
     "data": {
      "text/plain": [
       "array([1, 2, 3])"
      ]
     },
     "execution_count": 0,
     "metadata": {},
     "output_type": "execute_result"
    },
    {
     "data": {
      "text/plain": [
       "array({'a': 1, 'b': 2, 'c': 3}, dtype=object)"
      ]
     },
     "execution_count": 0,
     "metadata": {},
     "output_type": "execute_result"
    },
    {
     "data": {
      "text/plain": [
       "array([1, 2, 3])"
      ]
     },
     "execution_count": 0,
     "metadata": {},
     "output_type": "execute_result"
    }
   ],
   "source": [
    "# Make a list, dict and tuple manually of size 3. convert these to numpy arrays \n",
    "# show the results using display(..) \n",
    "list = [1,2,3]\n",
    "dict = {\"a\":1,\"b\":2,\"c\":3}\n",
    "tuple = (1,2,3)\n",
    "npList = np.array(list)\n",
    "npDict = np.array(dict)\n",
    "npTuple = np.array(tuple)\n",
    "display(npList)\n",
    "display(npDict)\n",
    "display(npTuple)"
   ]
  },
  {
   "cell_type": "code",
   "execution_count": 12,
   "metadata": {
    "collapsed": false
   },
   "outputs": [
    {
     "data": {
      "text/plain": [
       "array([[ 2,  3,  4],\n       [ 5,  6,  7],\n       [ 8,  9, 10]])"
      ]
     },
     "execution_count": 0,
     "metadata": {},
     "output_type": "execute_result"
    }
   ],
   "source": [
    "# create a 3x3 numpy array with values going from 2 to 10. \n",
    "# Do this in two different ways (there are more)\n",
    "nump1 = np.array([[2,3,4],[5,6,7],[8,9,10]])\n",
    "nump2 = np.arange(2,11).reshape(3,3)\n",
    "display(nump2)"
   ]
  },
  {
   "cell_type": "code",
   "execution_count": 15,
   "metadata": {},
   "outputs": [
    {
     "data": {
      "text/plain": [
       "array([[ 2,  3,  4,  5,  6,  7,  8,  9, 10]])"
      ]
     },
     "execution_count": 0,
     "metadata": {},
     "output_type": "execute_result"
    },
    {
     "data": {
      "text/plain": [
       "array([[ 2],\n       [ 3],\n       [ 4],\n       [ 5],\n       [ 6],\n       [ 7],\n       [ 8],\n       [ 9],\n       [10]])"
      ]
     },
     "execution_count": 0,
     "metadata": {},
     "output_type": "execute_result"
    }
   ],
   "source": [
    "# Take the 3x3 array created in the previous exercise\n",
    "# convert it to 1x9 and a 9x1. Check the dimensions to be sure\n",
    "\n",
    "nump3 = nump1.reshape(1,9)\n",
    "nump4 = nump1.reshape(9,1)\n",
    "display(nump3)\n",
    "display(nump4)"
   ]
  },
  {
   "cell_type": "code",
   "execution_count": 19,
   "metadata": {},
   "outputs": [
    {
     "data": {
      "text/plain": [
       "array([7, 3, 3, 5, 3, 3, 3, 3, 3, 3], dtype=int8)"
      ]
     },
     "execution_count": 0,
     "metadata": {},
     "output_type": "execute_result"
    }
   ],
   "source": [
    "# make a numpy array of size 10 filled with zeros\n",
    "# update one of the values to 7.0. update another value to 5.0. Update all even  values to 3.0\n",
    "np1 = np.zeros(10,dtype=np.int8)\n",
    "np1[0] = 7.0\n",
    "np1[3] = 5.0\n",
    "np1[np1 % 2 == 0] = 3.0\n",
    "display(np1)"
   ]
  },
  {
   "cell_type": "code",
   "execution_count": 33,
   "metadata": {},
   "outputs": [
    {
     "data": {
      "text/plain": [
       "array([[1., 1., 1.],\n       [1., 1., 1.]])"
      ]
     },
     "execution_count": 0,
     "metadata": {},
     "output_type": "execute_result"
    }
   ],
   "source": [
    "# write a function that takes a numpy array as input\n",
    "# the output of the function is a numpy array with the same dimensions but filled with 1's\n",
    "# test it with an example and display\n",
    "\n",
    "\n"
   ]
  },
  {
   "cell_type": "code",
   "execution_count": 22,
   "metadata": {},
   "outputs": [
    {
     "data": {
      "text/plain": [
       "array([[1., 1., 1.],\n       [1., 1., 1.]])"
      ]
     },
     "execution_count": 0,
     "metadata": {},
     "output_type": "execute_result"
    }
   ],
   "source": [
    "def oneFiller(array):\n",
    "    dimensions = np.shape(array)\n",
    "    newArray = np.ones(dimensions)\n",
    "    return newArray\n",
    "\n",
    "\n",
    "testArray = np.array([[2, 2, 2],[2, 2, 2]])\n",
    "newArray = oneFiller(testArray)\n",
    "display(newArray)"
   ]
  },
  {
   "cell_type": "code",
   "execution_count": null,
   "metadata": {},
   "outputs": [],
   "source": []
  }
 ],
 "metadata": {
  "kernelspec": {
   "display_name": "Python 2",
   "language": "python",
   "name": "python2"
  },
  "language_info": {
   "codemirror_mode": {
    "name": "ipython",
    "version": 2
   },
   "file_extension": ".py",
   "mimetype": "text/x-python",
   "name": "python",
   "nbconvert_exporter": "python",
   "pygments_lexer": "ipython2",
   "version": "2.7.6"
  }
 },
 "nbformat": 4,
 "nbformat_minor": 0
}
