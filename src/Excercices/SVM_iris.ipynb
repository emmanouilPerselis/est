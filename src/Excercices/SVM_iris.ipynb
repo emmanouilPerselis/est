{
 "cells": [
  {
   "cell_type": "markdown",
   "metadata": {
    "collapsed": true
   },
   "source": [
    "In this exercise you will apply an SVM algorithm to the Iris-datset. This is an open-source dataset of flower properties. The challenge is to train on a part of the dataset and seperate two types of flowers."
   ]
  },
  {
   "cell_type": "code",
   "execution_count": null,
   "metadata": {},
   "outputs": [],
   "source": [
    "#Importing some packages\n",
    "from sklearn.svm import SVC\n",
    "import pandas as pd\n",
    "import numpy as np\n",
    "import matplotlib.pyplot as plt\n",
    "from sklearn.metrics import confusion_matrix"
   ]
  },
  {
   "cell_type": "markdown",
   "metadata": {},
   "source": [
    "Load in the iris-dataset from the directory 'src/data_ex'. Check wether the file has collumn names. read the text file into a pandas dataframe and use df.info() en df.head() to check if you loaded in correctly. "
   ]
  },
  {
   "cell_type": "code",
   "execution_count": null,
   "metadata": {},
   "outputs": [],
   "source": [
    ""
   ]
  },
  {
   "cell_type": "markdown",
   "metadata": {},
   "source": [
    "Collumn names should be 'sepal length', 'sepal width', 'petal length', 'petal width','class'. add these if they are not present in the pandas dataframe yet. "
   ]
  },
  {
   "cell_type": "code",
   "execution_count": null,
   "metadata": {},
   "outputs": [],
   "source": [
    ""
   ]
  },
  {
   "cell_type": "markdown",
   "metadata": {},
   "source": [
    "Drop all rows with class equal to 'Iris-setosa'. Also drop the collumns 'sepal width' and 'sepal length'.\n",
    "check with df.info() if the collumns were removed. check the collumn 'class' for unique values to see if 'Iris-setosa' rows were removed"
   ]
  },
  {
   "cell_type": "code",
   "execution_count": null,
   "metadata": {},
   "outputs": [],
   "source": [
    ""
   ]
  },
  {
   "cell_type": "markdown",
   "metadata": {},
   "source": [
    "This line of code should not be changed it changes the class names to float numbers. \n",
    "Note that classes are now called 1.0 and 2.0."
   ]
  },
  {
   "cell_type": "code",
   "execution_count": null,
   "metadata": {},
   "outputs": [],
   "source": [
    "df_iris['class'][df_iris['class']=='Iris-versicolor'] = 1\n",
    "df_iris['class'][df_iris['class']=='Iris-virginica'] = 2\n",
    "df_iris['class'] = df_iris['class'].astype('float64')"
   ]
  },
  {
   "cell_type": "markdown",
   "metadata": {},
   "source": [
    "Make two dataframes called 'df_train' and 'df_test'\n",
    "\n",
    "df_train should contain roughly the first 70% of the dataset.\n",
    "\n",
    "df_test should contain the other 30% of the dataset"
   ]
  },
  {
   "cell_type": "code",
   "execution_count": 1,
   "metadata": {},
   "outputs": [],
   "source": [
    ""
   ]
  },
  {
   "cell_type": "markdown",
   "metadata": {},
   "source": [
    "make a SVM model with a simple 'linear' kernel. save it as 'model'. make a prediction on the training dataset. re-read documentation for sklearn.svm.SVC if you are not sure."
   ]
  },
  {
   "cell_type": "code",
   "execution_count": null,
   "metadata": {},
   "outputs": [],
   "source": [
    ""
   ]
  },
  {
   "cell_type": "markdown",
   "metadata": {},
   "source": [
    "Predict the classes of df_test with the model you made in the previous step."
   ]
  },
  {
   "cell_type": "code",
   "execution_count": null,
   "metadata": {},
   "outputs": [],
   "source": [
    ""
   ]
  },
  {
   "cell_type": "markdown",
   "metadata": {},
   "source": [
    "Make two boolean arrays and store them. \n",
    "\n",
    "The first boolean array should be Trueif the class is equal to 1 and False otherwise. \n",
    "\n",
    "The second boolean array should be True if the class is equal to 2 and Falseotherwise. "
   ]
  },
  {
   "cell_type": "code",
   "execution_count": null,
   "metadata": {},
   "outputs": [],
   "source": [
    ""
   ]
  },
  {
   "cell_type": "markdown",
   "metadata": {},
   "source": [
    "Make a matplotlib figure with two scatter plots on for each class. \n",
    "\n",
    "Scatter plots should each use 'petal width' vs 'petal length'. \n",
    "\n",
    "Plots should have size of point s=15 and marker='o'. The first class (1) should use edgecolors='g' and the second class should use edgecolors='y'. \n",
    "\n",
    "Other point sizes, markers and colors are allowed but graph should be easy to read and different classes easy to differentiate.\n",
    "\n",
    "Note: do not use plt.show() yet."
   ]
  },
  {
   "cell_type": "code",
   "execution_count": null,
   "metadata": {},
   "outputs": [],
   "source": [
    ""
   ]
  },
  {
   "cell_type": "markdown",
   "metadata": {},
   "source": [
    "Do not change the code below. \n",
    "\n",
    "It's important that you named the fullpandas dataframe 'df_iris' and saved the SVM model as 'model'.\n",
    "\n",
    "The code below makes predictions based upon the model you trained. Then it colors the complete graph in regions which are predicted to belong to class 1 and 2. Region 1 is blue, Region 2 is red.\n",
    "\n",
    "This is a good visualization method for kernel-based algorithms."
   ]
  },
  {
   "cell_type": "code",
   "execution_count": null,
   "metadata": {},
   "outputs": [],
   "source": [
    "x_min, x_max = df_iris['petal length'].min() - 1, df_iris['petal length'].max() + 1\n",
    "y_min, y_max = df_iris['petal width'].min() - 1, df_iris['petal width'].max() + 1\n",
    "xx, yy = np.meshgrid(np.arange(x_min, x_max, 0.01),\n",
    "                     np.arange(y_min, y_max, 0.01))\n",
    "\n",
    "Z = model.predict(np.c_[xx.ravel(), yy.ravel()])\n",
    "Z = Z.reshape(xx.shape)\n",
    "#Levels determine the boundaries between coloured regions\n",
    "#colors determine color of each region: 0->1.5 , 1.5->2.5\n",
    "plt.contourf(xx, yy, Z, alpha=0.3,\n",
    "             levels=[0.0, 1.5, 2.5],\n",
    "             colors=('b', 'r', 'g'))\n",
    "\n",
    "plt.show()\n"
   ]
  },
  {
   "cell_type": "markdown",
   "metadata": {},
   "source": [
    "Make a Confusion matrix for the test part of the data. make sure you fill in the argument labels (classes are 1 and 2).\n",
    "\n",
    "print() or display() the confusion matrix."
   ]
  },
  {
   "cell_type": "code",
   "execution_count": 1,
   "metadata": {},
   "outputs": [],
   "source": [
    ""
   ]
  },
  {
   "cell_type": "markdown",
   "metadata": {},
   "source": [
    "How well did the linear kernel worked? Did it seperate points perfectly ?\n",
    "\n",
    "Try out following things:\n",
    "\n",
    "-different standard kernels: 'rbf','poly', .. (see documentation).\n",
    "\n",
    "-different values for C, penalty parameter.\n",
    "\n",
    "-different values for gamma, kernel strength.  "
   ]
  },
  {
   "cell_type": "markdown",
   "metadata": {},
   "source": [
    "Kernel: __\n",
    "\n",
    "C: __\n",
    "\n",
    "Gamma: __\n",
    "\n",
    "number of Correct classified:\n",
    "\n",
    "number of wrongly classified:"
   ]
  },
  {
   "cell_type": "code",
   "execution_count": null,
   "metadata": {},
   "outputs": [],
   "source": []
  }
 ],
 "metadata": {
  "kernelspec": {
   "display_name": "Python 2",
   "language": "python",
   "name": "python2"
  },
  "language_info": {
   "codemirror_mode": {
    "name": "ipython",
    "version": 2
   },
   "file_extension": ".py",
   "mimetype": "text/x-python",
   "name": "python",
   "nbconvert_exporter": "python",
   "pygments_lexer": "ipython2",
   "version": "2.7.6"
  }
 },
 "nbformat": 4,
 "nbformat_minor": 0
}
