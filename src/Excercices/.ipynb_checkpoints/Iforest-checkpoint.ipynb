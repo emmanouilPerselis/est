{
 "cells": [
  {
   "cell_type": "markdown",
   "metadata": {
    "collapsed": true
   },
   "source": [
    "In this exercise you will use an IsolationForest to seperate generated\n",
    "data that follows two different normal distributions. "
   ]
  },
  {
   "cell_type": "markdown",
   "metadata": {},
   "source": [
    "Make two normal distributions using np.random.normal(). The arguments of this function are loc : the average, scale: the deviation of the average, size : number of data points generated.  Take into account that the Iforest algorithm should be able to distinguish between these two sets of datapoints, choose arguments accordingly."
   ]
  },
  {
   "cell_type": "code",
   "execution_count": null,
   "metadata": {},
   "outputs": [],
   "source": []
  },
  {
   "cell_type": "markdown",
   "metadata": {},
   "source": [
    "Make a graph with histograms for both normal distributions. Visualize the data that has just been produced"
   ]
  },
  {
   "cell_type": "code",
   "execution_count": null,
   "metadata": {},
   "outputs": [],
   "source": []
  },
  {
   "cell_type": "markdown",
   "metadata": {},
   "source": [
    "Make an Isolation Forest Object. Fill in arguments n_estimators and max_samples."
   ]
  },
  {
   "cell_type": "code",
   "execution_count": null,
   "metadata": {},
   "outputs": [],
   "source": []
  },
  {
   "cell_type": "code",
   "execution_count": null,
   "metadata": {},
   "outputs": [],
   "source": []
  },
  {
   "cell_type": "markdown",
   "metadata": {},
   "source": [
    "Construct the Isolation forest by giving the full dataset to the Isolation Forest object. \n",
    "\n",
    "Note that the fit() method expects a numpy array of the shape (n,1) where n is some number of datapoints."
   ]
  },
  {
   "cell_type": "code",
   "execution_count": null,
   "metadata": {},
   "outputs": [],
   "source": []
  },
  {
   "cell_type": "markdown",
   "metadata": {},
   "source": [
    "The Iforest is now ready the calculate scores and make predictions.\n",
    "\n",
    "1) Make an array of values with a constant step between values using a numpy function. The data should fall inside the range of this array of values.  \n",
    "2) Calculate the scores and predict anomalies for this array of values. \n",
    "\n",
    "Note: don't forget that these functions also expect a numpy array in the form n x 1, row vector."
   ]
  },
  {
   "cell_type": "code",
   "execution_count": null,
   "metadata": {},
   "outputs": [],
   "source": []
  },
  {
   "cell_type": "markdown",
   "metadata": {},
   "source": [
    "Visualize the anomaly scores. It should be a simple lineplot for the complete array of values produced in previous step. \n",
    "\n",
    "Use the `label` argument to label the line plot. Give an appropiate label like 'anomaly score' or similar.\n",
    "\n",
    "Also show the graph to see if it's sucessfull. \n",
    "\n",
    "Note: you should see two peaks. depending on the choice of generated data this might look different."
   ]
  },
  {
   "cell_type": "code",
   "execution_count": null,
   "metadata": {},
   "outputs": [],
   "source": []
  },
  {
   "cell_type": "markdown",
   "metadata": {},
   "source": [
    "Visualize the predicted anomalies. Use the array of values and stored anomalies.\n",
    " \n",
    "The outliers returned by the Iforest have the values +1 for inliers and -1 for outliers. make a boolean array that is true for outliers.\n",
    "Using this boolean array as a mask on the plot. \n",
    "\n",
    "The plot should be of type scatter. A scatterplot plots points instead of lines.\n",
    "\n",
    "Make sure the scatterlot has value = 'maximum of anomaly scores' for outliers. for inliers nothing should be plotted.\n",
    "\n",
    "The color of the plot should be red. The label should be similar to 'outliers'."
   ]
  },
  {
   "cell_type": "code",
   "execution_count": null,
   "metadata": {},
   "outputs": [],
   "source": [
    "y = np.zeros(xx.shape[0])\n",
    "y.fill(max(anomaly_score))\n",
    "mask = outlier == -1\n",
    "plt.scatter(xx[mask], y[mask], color='r', label='outliers')\n",
    "plt.show()"
   ]
  },
  {
   "cell_type": "markdown",
   "metadata": {},
   "source": [
    "Add a legend to the plot and add names for the axes. \n",
    "Look at the documentation of matplotlib if you are not sure (legend(), xlabel(), ylabel() ). \n",
    "\n",
    "The legend shows the labels that were previously made. You can choose where these are shown. \n",
    "\n",
    "The label names for x and y can also be chosen.\n",
    "\n",
    "Now also show the plot again using .show() to see the changes."
   ]
  },
  {
   "cell_type": "code",
   "execution_count": null,
   "metadata": {},
   "outputs": [],
   "source": []
  },
  {
   "cell_type": "markdown",
   "metadata": {},
   "source": [
    "If you haven't tried laying the two normal distributions close together such that they : \n",
    "\n",
    "(almost) fully overlap, partially overlap, are separated.\n",
    "\n",
    "Rerun your script each time (all cells).\n",
    " \n",
    "What do you see ? Can you explain the different situations ?\n",
    "\n",
    "Write down a short description for the three situations below\n",
    "\n",
    "Note: double click on the box below to edit.\n",
    "_________________________________________"
   ]
  },
  {
   "cell_type": "markdown",
   "metadata": {},
   "source": [
    "Normal Distributions \n",
    "\n",
    "fully overlap: ...\n",
    "\n",
    "Partially overlap: ...\n",
    "\n",
    "Seperated: ...\n"
   ]
  },
  {
   "cell_type": "code",
   "execution_count": null,
   "metadata": {},
   "outputs": [],
   "source": []
  }
 ],
 "metadata": {
  "kernelspec": {
   "display_name": "Python 3",
   "language": "python",
   "name": "python3"
  },
  "language_info": {
   "codemirror_mode": {
    "name": "ipython",
    "version": 3
   },
   "file_extension": ".py",
   "mimetype": "text/x-python",
   "name": "python",
   "nbconvert_exporter": "python",
   "pygments_lexer": "ipython3",
   "version": "3.6.5"
  }
 },
 "nbformat": 4,
 "nbformat_minor": 1
}
